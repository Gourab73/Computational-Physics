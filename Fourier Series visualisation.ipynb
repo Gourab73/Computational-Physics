{
 "cells": [
  {
   "cell_type": "code",
   "execution_count": 1,
   "id": "fc2175ab",
   "metadata": {},
   "outputs": [
    {
     "name": "stdout",
     "output_type": "stream",
     "text": [
      "pygame 2.5.2 (SDL 2.28.3, Python 3.11.4)\n",
      "Hello from the pygame community. https://www.pygame.org/contribute.html\n",
      "Number of components: 5\n"
     ]
    }
   ],
   "source": [
    "import pygame\n",
    "import math\n",
    "\n",
    "pygame.init()\n",
    "\n",
    "width, height = 800, 600  \n",
    "screen = pygame.display.set_mode((width, height))\n",
    "clock = pygame.time.Clock()\n",
    "\n",
    "time = 0\n",
    "wave = []\n",
    "path = []\n",
    "\n",
    "slider_val = int(input('Number of components: '))\n",
    "\n",
    "font = pygame.font.Font(None, 36)\n",
    "\n",
    "def setup():\n",
    "    global slider_val\n",
    "    slider_val = 5\n",
    "\n",
    "def draw():\n",
    "    global time, wave, slider_val\n",
    "\n",
    "    screen.fill((0, 0, 0))\n",
    "    pygame.draw.line(screen, (255, 255, 255), (300, 400), (700, 400), 2) \n",
    "\n",
    "    x = 0\n",
    "    y = 0\n",
    "\n",
    "    for i in range(slider_val):\n",
    "        prevx = x\n",
    "        prevy = y\n",
    "\n",
    "        n = i * 2 + 1\n",
    "        radius = 100 * (4 / (n * math.pi))  \n",
    "        x += radius * math.cos(n * time)\n",
    "        y += radius * math.sin(n * time)\n",
    "\n",
    "        pygame.draw.ellipse(screen, (255, 100, 100), (300 + prevx - radius, 400 + prevy - radius, radius * 2, radius * 2), 1) \n",
    "\n",
    "        pygame.draw.line(screen, (255, 255, 255), (300 + prevx, 400 + prevy), (300 + x, 400 + y), 1)  \n",
    "\n",
    "    wave.insert(0, y)\n",
    "\n",
    "    pygame.draw.line(screen, (255, 255, 255), (300 + x, 400 + y), (500, 400 + wave[0]), 1) \n",
    "\n",
    "    if len(wave) >= 2:\n",
    "        points = [(i + 500, 400 + wave[i]) for i in range(len(wave))] \n",
    "        pygame.draw.lines(screen, (255, 255, 255), False, points, 1)\n",
    "\n",
    "    time += 0.028\n",
    "\n",
    "    if len(wave) > 250:\n",
    "        wave.pop()\n",
    "\n",
    "    text = font.render(f\"n = {slider_val}\", True, (255, 255, 255))\n",
    "    screen.blit(text, (10, 10))\n",
    "\n",
    "    pygame.display.flip()\n",
    "\n",
    "running = True\n",
    "while running:\n",
    "    for event in pygame.event.get():\n",
    "        if event.type == pygame.QUIT:\n",
    "            running = False\n",
    "        elif event.type == pygame.KEYDOWN:\n",
    "            if event.key == pygame.K_UP:\n",
    "                slider_val += 1\n",
    "            elif event.key == pygame.K_DOWN:\n",
    "                slider_val = max(1, slider_val - 1)\n",
    "\n",
    "    draw()\n",
    "    clock.tick(60)\n",
    "\n",
    "pygame.quit()\n"
   ]
  },
  {
   "cell_type": "code",
   "execution_count": null,
   "id": "275cc8cd",
   "metadata": {},
   "outputs": [],
   "source": []
  },
  {
   "cell_type": "code",
   "execution_count": null,
   "id": "46092954",
   "metadata": {},
   "outputs": [],
   "source": []
  }
 ],
 "metadata": {
  "kernelspec": {
   "display_name": "Python 3 (ipykernel)",
   "language": "python",
   "name": "python3"
  },
  "language_info": {
   "codemirror_mode": {
    "name": "ipython",
    "version": 3
   },
   "file_extension": ".py",
   "mimetype": "text/x-python",
   "name": "python",
   "nbconvert_exporter": "python",
   "pygments_lexer": "ipython3",
   "version": "3.11.4"
  }
 },
 "nbformat": 4,
 "nbformat_minor": 5
}
